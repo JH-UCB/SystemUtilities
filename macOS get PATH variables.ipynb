{
 "cells": [
  {
   "cell_type": "code",
   "execution_count": null,
   "metadata": {},
   "outputs": [],
   "source": [
    "import os\n",
    "\n",
    "# Get the PATH environment variable\n",
    "path = os.environ['PATH']\n",
    "\n",
    "# Split the PATH variable into a list of directories\n",
    "path_directories = path.split(':')\n",
    "\n",
    "# Print each directory in the PATH\n",
    "for i, directory in enumerate(path_directories):\n",
    "    print(f\"{i + 1}. {directory}\")\n"
   ]
  },
  {
   "cell_type": "code",
   "execution_count": null,
   "metadata": {},
   "outputs": [],
   "source": [
    "import os\n",
    "\n",
    "# Get the PATH environment variable\n",
    "path = os.environ['PATH']\n",
    "\n",
    "# Split the PATH into a list of directories\n",
    "directories = path.split(':')\n",
    "\n",
    "# Iterate through the directories and list the contents\n",
    "for directory in directories:\n",
    "    try:\n",
    "        # List the files in the directory\n",
    "        files = os.listdir(directory)\n",
    "        \n",
    "        # Print the directory name and its contents\n",
    "        print(f\"Directory: {directory}\")\n",
    "        print(\"Files:\")\n",
    "        for file in files:\n",
    "            print(f\"  {file}\")\n",
    "        print()\n",
    "        \n",
    "    except FileNotFoundError:\n",
    "        print(f\"Directory not found: {directory}\")\n",
    "        print()\n",
    "\n",
    "    except PermissionError:\n",
    "        print(f\"Permission denied: {directory}\")\n",
    "        print()\n"
   ]
  }
 ],
 "metadata": {
  "language_info": {
   "name": "python"
  },
  "orig_nbformat": 4
 },
 "nbformat": 4,
 "nbformat_minor": 2
}
