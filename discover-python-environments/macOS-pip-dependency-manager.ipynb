{
 "cells": [
  {
   "cell_type": "code",
   "execution_count": null,
   "metadata": {},
   "outputs": [],
   "source": [
    "import subprocess\n",
    "\n",
    "def list_installed_packages():\n",
    "    # List all installed packages and their versions\n",
    "    try:\n",
    "        result = subprocess.run(['pip', 'freeze'], capture_output=True, text=True)\n",
    "        lines = result.stdout.splitlines()\n",
    "        print('Installed packages:')\n",
    "        for line in lines:\n",
    "            print(line)\n",
    "    except Exception as e:\n",
    "        print(f\"An error occurred: {str(e)}\")\n",
    "\n",
    "def view_package_dependencies():\n",
    "    # View dependencies of installed packages\n",
    "    try:\n",
    "        result = subprocess.run(['pipdeptree'], capture_output=True, text=True)\n",
    "        print('Package dependencies:')\n",
    "        print(result.stdout)\n",
    "    except Exception as e:\n",
    "        print(f\"An error occurred: {str(e)}\")\n"
   ]
  },
  {
   "cell_type": "code",
   "execution_count": null,
   "metadata": {},
   "outputs": [],
   "source": [
    "list_installed_packages()\n",
    "view_package_dependencies()\n"
   ]
  }
 ],
 "metadata": {
  "kernelspec": {
   "display_name": "base",
   "language": "python",
   "name": "python3"
  },
  "language_info": {
   "codemirror_mode": {
    "name": "ipython",
    "version": 3
   },
   "file_extension": ".py",
   "mimetype": "text/x-python",
   "name": "python",
   "nbconvert_exporter": "python",
   "pygments_lexer": "ipython3",
   "version": "3.10.9"
  },
  "orig_nbformat": 4
 },
 "nbformat": 4,
 "nbformat_minor": 2
}
