{
 "cells": [
  {
   "cell_type": "code",
   "execution_count": null,
   "metadata": {},
   "outputs": [],
   "source": [
    "import subprocess\n",
    "import os\n",
    "\n",
    "def list_python_versions():\n",
    "    # List all installed Python versions\n",
    "    try:\n",
    "        directory_path = '/usr/local/bin/'\n",
    "        result = subprocess.run(['ls', directory_path], capture_output=True, text=True)\n",
    "        lines = result.stdout.splitlines()\n",
    "        versions = [line for line in lines if 'python' in line and line != 'python']\n",
    "        print('Installed Python versions:')\n",
    "        for version in versions:\n",
    "            print(os.path.join(directory_path, version))  # print full path to Python version\n",
    "    except Exception as e:\n",
    "        print(f\"An error occurred: {str(e)}\")\n",
    "\n",
    "\n",
    "def switch_python_version(version):\n",
    "    # Switch Python version\n",
    "    try:\n",
    "        subprocess.run(['alias', f'python=/usr/local/bin/{version}'], check=True)\n",
    "        print(f'Switched to Python version: {version}')\n",
    "    except Exception as e:\n",
    "        print(f\"An error occurred: {str(e)}\")"
   ]
  },
  {
   "cell_type": "code",
   "execution_count": null,
   "metadata": {},
   "outputs": [],
   "source": [
    "list_python_versions()\n",
    "\n",
    "# switch_python_version('python3.9')"
   ]
  },
  {
   "cell_type": "code",
   "execution_count": null,
   "metadata": {},
   "outputs": [],
   "source": [
    "def find_python_versions():\n",
    "    # List all installed Python versions\n",
    "    try:\n",
    "        result = subprocess.run(['find', '/', '-type', 'f', '-perm', '+111', '-name', 'python*'], capture_output=True, text=True)\n",
    "        lines = result.stdout.splitlines()\n",
    "        versions = [line for line in lines if 'python' in os.path.basename(line)]\n",
    "        versions = list(set(versions))  # remove duplicates\n",
    "        print('Installed Python versions:')\n",
    "        for version in versions:\n",
    "            print(version)\n",
    "    except Exception as e:\n",
    "        print(f\"An error occurred: {str(e)}\")\n",
    "\n"
   ]
  },
  {
   "cell_type": "code",
   "execution_count": null,
   "metadata": {},
   "outputs": [],
   "source": [
    "find_python_versions()\n",
    "\n",
    "# WARNING: Running this will could take significant resources and time to complete on your system. "
   ]
  }
 ],
 "metadata": {
  "kernelspec": {
   "display_name": "base",
   "language": "python",
   "name": "python3"
  },
  "language_info": {
   "codemirror_mode": {
    "name": "ipython",
    "version": 3
   },
   "file_extension": ".py",
   "mimetype": "text/x-python",
   "name": "python",
   "nbconvert_exporter": "python",
   "pygments_lexer": "ipython3",
   "version": "3.10.9"
  },
  "orig_nbformat": 4
 },
 "nbformat": 4,
 "nbformat_minor": 2
}
