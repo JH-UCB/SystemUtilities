{
 "cells": [
  {
   "cell_type": "code",
   "execution_count": null,
   "metadata": {},
   "outputs": [
    {
     "name": "stdout",
     "output_type": "stream",
     "text": [
      "Time: 2025-06-07T14:31:55.216902\n",
      "CPU Usage: 22.6%\n",
      "RAM Usage: 50.6%\n",
      "\n"
     ]
    }
   ],
   "source": [
    "import psutil\n",
    "import time\n",
    "from datetime import datetime\n",
    "\n",
    "try:\n",
    "    from IPython.display import clear_output\n",
    "except ImportError:\n",
    "    def clear_output(wait=True):\n",
    "        pass\n",
    "\n",
    "for _ in range(100):  # or while True for indefinite\n",
    "    clear_output(wait=True)\n",
    "    cpu = psutil.cpu_percent()\n",
    "    ram = psutil.virtual_memory().percent\n",
    "    print(f\"Time: {datetime.now().isoformat()}\")\n",
    "    print(f\"CPU Usage: {cpu}%\")\n",
    "    print(f\"RAM Usage: {ram}%\")\n",
    "    print(\"\")\n",
    "    time.sleep(1)"
   ]
  }
 ],
 "metadata": {
  "kernelspec": {
   "display_name": "Python 3",
   "language": "python",
   "name": "python3"
  },
  "language_info": {
   "codemirror_mode": {
    "name": "ipython",
    "version": 3
   },
   "file_extension": ".py",
   "mimetype": "text/x-python",
   "name": "python",
   "nbconvert_exporter": "python",
   "pygments_lexer": "ipython3",
   "version": "3.11.9"
  }
 },
 "nbformat": 4,
 "nbformat_minor": 2
}
